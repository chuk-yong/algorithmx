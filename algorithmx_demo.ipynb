{
  "nbformat": 4,
  "nbformat_minor": 0,
  "metadata": {
    "colab": {
      "name": "algorithmx-demo.ipynb",
      "provenance": [],
      "authorship_tag": "ABX9TyNlpB51fNohaxrYoZcP3qVU",
      "include_colab_link": true
    },
    "kernelspec": {
      "name": "python3",
      "display_name": "Python 3"
    },
    "language_info": {
      "name": "python"
    },
    "widgets": {
      "application/vnd.jupyter.widget-state+json": {
        "105ea9589ad74e7086178b81043b6f83": {
          "model_module": "algorithmx-jupyter",
          "model_name": "AlgorithmXModel",
          "model_module_version": "^3.0.0",
          "state": {
            "_dom_classes": [],
            "_model_module": "algorithmx-jupyter",
            "_model_module_version": "^3.0.0",
            "_model_name": "AlgorithmXModel",
            "_view_count": null,
            "_view_module": "algorithmx-jupyter",
            "_view_module_version": "^3.0.0",
            "_view_name": "AlgorithmXView",
            "events": [
              "{\"attrs\": {\"nodes\": {\"0\": {}, \"1\": {}, \"2\": {}, \"3\": {}, \"4\": {}, \"5\": {}, \"6\": {}, \"7\": {}, \"8\": {}, \"9\": {}}}}",
              "{\"attrs\": {\"edges\": {\"0-1\": {\"source\": \"0\", \"target\": \"1\"}, \"0-5\": {\"source\": \"0\", \"target\": \"5\"}, \"0-4\": {\"source\": \"0\", \"target\": \"4\"}, \"1-0\": {\"source\": \"1\", \"target\": \"0\"}, \"1-2\": {\"source\": \"1\", \"target\": \"2\"}, \"1-6\": {\"source\": \"1\", \"target\": \"6\"}, \"2-1\": {\"source\": \"2\", \"target\": \"1\"}, \"2-3\": {\"source\": \"2\", \"target\": \"3\"}, \"2-7\": {\"source\": \"2\", \"target\": \"7\"}, \"3-2\": {\"source\": \"3\", \"target\": \"2\"}, \"3-4\": {\"source\": \"3\", \"target\": \"4\"}, \"3-8\": {\"source\": \"3\", \"target\": \"8\"}, \"4-3\": {\"source\": \"4\", \"target\": \"3\"}, \"4-9\": {\"source\": \"4\", \"target\": \"9\"}, \"4-0\": {\"source\": \"4\", \"target\": \"0\"}, \"5-6\": {\"source\": \"5\", \"target\": \"6\"}, \"5-0\": {\"source\": \"5\", \"target\": \"0\"}, \"5-9\": {\"source\": \"5\", \"target\": \"9\"}, \"6-5\": {\"source\": \"6\", \"target\": \"5\"}, \"6-7\": {\"source\": \"6\", \"target\": \"7\"}, \"6-1\": {\"source\": \"6\", \"target\": \"1\"}, \"7-6\": {\"source\": \"7\", \"target\": \"6\"}, \"7-8\": {\"source\": \"7\", \"target\": \"8\"}, \"7-2\": {\"source\": \"7\", \"target\": \"2\"}, \"8-7\": {\"source\": \"8\", \"target\": \"7\"}, \"8-9\": {\"source\": \"8\", \"target\": \"9\"}, \"8-3\": {\"source\": \"8\", \"target\": \"3\"}, \"9-8\": {\"source\": \"9\", \"target\": \"8\"}, \"9-4\": {\"source\": \"9\", \"target\": \"4\"}, \"9-5\": {\"source\": \"9\", \"target\": \"5\"}}}}",
              "{\"attrs\": {\"edges\": {\"0-1\": {\"directed\": true}, \"0-5\": {\"directed\": true}, \"0-4\": {\"directed\": true}, \"1-0\": {\"directed\": true}, \"1-2\": {\"directed\": true}, \"1-6\": {\"directed\": true}, \"2-1\": {\"directed\": true}, \"2-3\": {\"directed\": true}, \"2-7\": {\"directed\": true}, \"3-2\": {\"directed\": true}, \"3-4\": {\"directed\": true}, \"3-8\": {\"directed\": true}, \"4-3\": {\"directed\": true}, \"4-9\": {\"directed\": true}, \"4-0\": {\"directed\": true}, \"5-6\": {\"directed\": true}, \"5-0\": {\"directed\": true}, \"5-9\": {\"directed\": true}, \"6-5\": {\"directed\": true}, \"6-7\": {\"directed\": true}, \"6-1\": {\"directed\": true}, \"7-6\": {\"directed\": true}, \"7-8\": {\"directed\": true}, \"7-2\": {\"directed\": true}, \"8-7\": {\"directed\": true}, \"8-9\": {\"directed\": true}, \"8-3\": {\"directed\": true}, \"9-8\": {\"directed\": true}, \"9-4\": {\"directed\": true}, \"9-5\": {\"directed\": true}}}, \"animation\": {\"duration\": 0}}",
              "{\"attrs\": {\"edges\": {\"0-1\": {\"labels\": {\"0\": {\"text\": 8}}}, \"0-5\": {\"labels\": {\"0\": {\"text\": 7}}}, \"0-4\": {\"labels\": {\"0\": {\"text\": 3}}}, \"1-0\": {\"labels\": {\"0\": {\"text\": 2}}}, \"1-2\": {\"labels\": {\"0\": {\"text\": 3}}}, \"1-6\": {\"labels\": {\"0\": {\"text\": 7}}}, \"2-1\": {\"labels\": {\"0\": {\"text\": 2}}}, \"2-3\": {\"labels\": {\"0\": {\"text\": 6}}}, \"2-7\": {\"labels\": {\"0\": {\"text\": 4}}}, \"3-2\": {\"labels\": {\"0\": {\"text\": 3}}}, \"3-4\": {\"labels\": {\"0\": {\"text\": 6}}}, \"3-8\": {\"labels\": {\"0\": {\"text\": 9}}}, \"4-3\": {\"labels\": {\"0\": {\"text\": 2}}}, \"4-9\": {\"labels\": {\"0\": {\"text\": 5}}}, \"4-0\": {\"labels\": {\"0\": {\"text\": 8}}}, \"5-6\": {\"labels\": {\"0\": {\"text\": 9}}}, \"5-0\": {\"labels\": {\"0\": {\"text\": 6}}}, \"5-9\": {\"labels\": {\"0\": {\"text\": 8}}}, \"6-5\": {\"labels\": {\"0\": {\"text\": 7}}}, \"6-7\": {\"labels\": {\"0\": {\"text\": 2}}}, \"6-1\": {\"labels\": {\"0\": {\"text\": 7}}}, \"7-6\": {\"labels\": {\"0\": {\"text\": 7}}}, \"7-8\": {\"labels\": {\"0\": {\"text\": 5}}}, \"7-2\": {\"labels\": {\"0\": {\"text\": 6}}}, \"8-7\": {\"labels\": {\"0\": {\"text\": 8}}}, \"8-9\": {\"labels\": {\"0\": {\"text\": 6}}}, \"8-3\": {\"labels\": {\"0\": {\"text\": 6}}}, \"9-8\": {\"labels\": {\"0\": {\"text\": 7}}}, \"9-4\": {\"labels\": {\"0\": {\"text\": 1}}}, \"9-5\": {\"labels\": {\"0\": {\"text\": 7}}}}}, \"animation\": {\"duration\": 0}}"
            ],
            "layout": "IPY_MODEL_8ab107d3dbb64d87a017bf79aab92c75",
            "show_buttons": false
          }
        },
        "8ab107d3dbb64d87a017bf79aab92c75": {
          "model_module": "@jupyter-widgets/base",
          "model_name": "LayoutModel",
          "model_module_version": "1.2.0",
          "state": {
            "_model_module": "@jupyter-widgets/base",
            "_model_module_version": "1.2.0",
            "_model_name": "LayoutModel",
            "_view_count": null,
            "_view_module": "@jupyter-widgets/base",
            "_view_module_version": "1.2.0",
            "_view_name": "LayoutView",
            "align_content": null,
            "align_items": null,
            "align_self": null,
            "border": null,
            "bottom": null,
            "display": null,
            "flex": null,
            "flex_flow": null,
            "grid_area": null,
            "grid_auto_columns": null,
            "grid_auto_flow": null,
            "grid_auto_rows": null,
            "grid_column": null,
            "grid_gap": null,
            "grid_row": null,
            "grid_template_areas": null,
            "grid_template_columns": null,
            "grid_template_rows": null,
            "height": null,
            "justify_content": null,
            "justify_items": null,
            "left": null,
            "margin": null,
            "max_height": null,
            "max_width": null,
            "min_height": null,
            "min_width": null,
            "object_fit": null,
            "object_position": null,
            "order": null,
            "overflow": null,
            "overflow_x": null,
            "overflow_y": null,
            "padding": null,
            "right": null,
            "top": null,
            "visibility": null,
            "width": null
          }
        },
        "1b08b7ed95d540c3887ffdde79cf5dea": {
          "model_module": "algorithmx-jupyter",
          "model_name": "AlgorithmXModel",
          "model_module_version": "^3.0.0",
          "state": {
            "_dom_classes": [],
            "_model_module": "algorithmx-jupyter",
            "_model_module_version": "^3.0.0",
            "_model_name": "AlgorithmXModel",
            "_view_count": null,
            "_view_module": "algorithmx-jupyter",
            "_view_module_version": "^3.0.0",
            "_view_name": "AlgorithmXView",
            "events": [
              "{\"attrs\": {\"size\": [500, 400]}}",
              "{\"attrs\": {\"nodes\": {\"0\": {}, \"1\": {}, \"2\": {}, \"3\": {}, \"4\": {}, \"5\": {}, \"6\": {}, \"7\": {}, \"8\": {}, \"9\": {}, \"10\": {}, \"11\": {}}}}",
              "{\"attrs\": {\"edges\": {\"0-2\": {\"source\": \"0\", \"target\": \"2\"}, \"0-3\": {\"source\": \"0\", \"target\": \"3\"}, \"0-11\": {\"source\": \"0\", \"target\": \"11\"}, \"1-2\": {\"source\": \"1\", \"target\": \"2\"}, \"1-3\": {\"source\": \"1\", \"target\": \"3\"}, \"2-3\": {\"source\": \"2\", \"target\": \"3\"}, \"3-4\": {\"source\": \"3\", \"target\": \"4\"}, \"4-6\": {\"source\": \"4\", \"target\": \"6\"}, \"4-7\": {\"source\": \"4\", \"target\": \"7\"}, \"5-6\": {\"source\": \"5\", \"target\": \"6\"}, \"5-7\": {\"source\": \"5\", \"target\": \"7\"}, \"6-7\": {\"source\": \"6\", \"target\": \"7\"}, \"7-8\": {\"source\": \"7\", \"target\": \"8\"}, \"8-10\": {\"source\": \"8\", \"target\": \"10\"}, \"8-11\": {\"source\": \"8\", \"target\": \"11\"}, \"9-10\": {\"source\": \"9\", \"target\": \"10\"}, \"9-11\": {\"source\": \"9\", \"target\": \"11\"}, \"10-11\": {\"source\": \"10\", \"target\": \"11\"}}}}",
              "{\"queues\": {\"0\": {\"pause\": 1}}, \"withQ\": 0}",
              "{\"attrs\": {\"nodes\": {\"0\": {\"size\": \"1.25x\"}}}}",
              "{\"attrs\": {\"nodes\": {\"0\": {\"color\": \"purple\"}}}}",
              "{\"queues\": {\"0\": {\"pause\": 0.5}}, \"withQ\": 0}",
              "{\"attrs\": {\"edges\": {\"0-2\": {\"color\": {\"animtype\": \"traverse\", \"value\": \"pink\", \"animsource\": \"0\"}}}}}",
              "{\"queues\": {\"0\": {\"pause\": 0.5}}, \"withQ\": 0}",
              "{\"attrs\": {\"edges\": {\"0-3\": {\"color\": {\"animtype\": \"traverse\", \"value\": \"pink\", \"animsource\": \"0\"}}}}}",
              "{\"queues\": {\"0\": {\"pause\": 0.5}}, \"withQ\": 0}",
              "{\"attrs\": {\"edges\": {\"0-11\": {\"color\": {\"animtype\": \"traverse\", \"value\": \"pink\", \"animsource\": \"0\"}}}}}",
              "{\"queues\": {\"0\": {\"pause\": 0.5}}, \"withQ\": 0}",
              "{\"attrs\": {\"nodes\": {\"2\": {\"size\": \"1.25x\"}}}}",
              "{\"attrs\": {\"nodes\": {\"2\": {\"color\": \"purple\"}}}}",
              "{\"attrs\": {\"nodes\": {\"0\": {\"size\": \"0.8x\"}}}}",
              "{\"queues\": {\"0\": {\"pause\": 0.5}}, \"withQ\": 0}",
              "{\"attrs\": {\"edges\": {\"2-1\": {\"color\": {\"animtype\": \"traverse\", \"value\": \"pink\", \"animsource\": \"2\"}}}}}",
              "{\"queues\": {\"0\": {\"pause\": 0.5}}, \"withQ\": 0}",
              "{\"attrs\": {\"edges\": {\"2-3\": {\"color\": {\"animtype\": \"traverse\", \"value\": \"pink\", \"animsource\": \"2\"}}}}}",
              "{\"queues\": {\"0\": {\"pause\": 0.5}}, \"withQ\": 0}",
              "{\"attrs\": {\"nodes\": {\"3\": {\"size\": \"1.25x\"}}}}",
              "{\"attrs\": {\"nodes\": {\"3\": {\"color\": \"purple\"}}}}",
              "{\"attrs\": {\"nodes\": {\"2\": {\"size\": \"0.8x\"}}}}",
              "{\"queues\": {\"0\": {\"pause\": 0.5}}, \"withQ\": 0}",
              "{\"attrs\": {\"edges\": {\"3-1\": {\"color\": {\"animtype\": \"traverse\", \"value\": \"pink\", \"animsource\": \"3\"}}}}}",
              "{\"queues\": {\"0\": {\"pause\": 0.5}}, \"withQ\": 0}",
              "{\"attrs\": {\"edges\": {\"3-4\": {\"color\": {\"animtype\": \"traverse\", \"value\": \"pink\", \"animsource\": \"3\"}}}}}",
              "{\"queues\": {\"0\": {\"pause\": 0.5}}, \"withQ\": 0}",
              "{\"attrs\": {\"nodes\": {\"11\": {\"size\": \"1.25x\"}}}}",
              "{\"attrs\": {\"nodes\": {\"11\": {\"color\": \"purple\"}}}}",
              "{\"attrs\": {\"nodes\": {\"3\": {\"size\": \"0.8x\"}}}}",
              "{\"queues\": {\"0\": {\"pause\": 0.5}}, \"withQ\": 0}",
              "{\"attrs\": {\"edges\": {\"11-8\": {\"color\": {\"animtype\": \"traverse\", \"value\": \"pink\", \"animsource\": \"11\"}}}}}",
              "{\"queues\": {\"0\": {\"pause\": 0.5}}, \"withQ\": 0}",
              "{\"attrs\": {\"edges\": {\"11-9\": {\"color\": {\"animtype\": \"traverse\", \"value\": \"pink\", \"animsource\": \"11\"}}}}}",
              "{\"queues\": {\"0\": {\"pause\": 0.5}}, \"withQ\": 0}",
              "{\"attrs\": {\"edges\": {\"11-10\": {\"color\": {\"animtype\": \"traverse\", \"value\": \"pink\", \"animsource\": \"11\"}}}}}",
              "{\"queues\": {\"0\": {\"pause\": 0.5}}, \"withQ\": 0}",
              "{\"attrs\": {\"nodes\": {\"4\": {\"size\": \"1.25x\"}}}}",
              "{\"attrs\": {\"nodes\": {\"4\": {\"color\": \"purple\"}}}}",
              "{\"attrs\": {\"nodes\": {\"11\": {\"size\": \"0.8x\"}}}}",
              "{\"queues\": {\"0\": {\"pause\": 0.5}}, \"withQ\": 0}",
              "{\"attrs\": {\"edges\": {\"4-6\": {\"color\": {\"animtype\": \"traverse\", \"value\": \"pink\", \"animsource\": \"4\"}}}}}",
              "{\"queues\": {\"0\": {\"pause\": 0.5}}, \"withQ\": 0}",
              "{\"attrs\": {\"edges\": {\"4-7\": {\"color\": {\"animtype\": \"traverse\", \"value\": \"pink\", \"animsource\": \"4\"}}}}}",
              "{\"queues\": {\"0\": {\"pause\": 0.5}}, \"withQ\": 0}",
              "{\"attrs\": {\"nodes\": {\"8\": {\"size\": \"1.25x\"}}}}",
              "{\"attrs\": {\"nodes\": {\"8\": {\"color\": \"purple\"}}}}",
              "{\"attrs\": {\"nodes\": {\"4\": {\"size\": \"0.8x\"}}}}",
              "{\"queues\": {\"0\": {\"pause\": 0.5}}, \"withQ\": 0}",
              "{\"attrs\": {\"edges\": {\"8-10\": {\"color\": {\"animtype\": \"traverse\", \"value\": \"pink\", \"animsource\": \"8\"}}}}}",
              "{\"queues\": {\"0\": {\"pause\": 0.5}}, \"withQ\": 0}",
              "{\"attrs\": {\"edges\": {\"8-7\": {\"color\": {\"animtype\": \"traverse\", \"value\": \"pink\", \"animsource\": \"8\"}}}}}",
              "{\"queues\": {\"0\": {\"pause\": 0.5}}, \"withQ\": 0}",
              "{\"attrs\": {\"nodes\": {\"9\": {\"size\": \"1.25x\"}}}}",
              "{\"attrs\": {\"nodes\": {\"9\": {\"color\": \"purple\"}}}}",
              "{\"attrs\": {\"nodes\": {\"8\": {\"size\": \"0.8x\"}}}}",
              "{\"queues\": {\"0\": {\"pause\": 0.5}}, \"withQ\": 0}",
              "{\"attrs\": {\"edges\": {\"9-10\": {\"color\": {\"animtype\": \"traverse\", \"value\": \"pink\", \"animsource\": \"9\"}}}}}",
              "{\"queues\": {\"0\": {\"pause\": 0.5}}, \"withQ\": 0}",
              "{\"attrs\": {\"nodes\": {\"6\": {\"size\": \"1.25x\"}}}}",
              "{\"attrs\": {\"nodes\": {\"6\": {\"color\": \"purple\"}}}}",
              "{\"attrs\": {\"nodes\": {\"9\": {\"size\": \"0.8x\"}}}}",
              "{\"queues\": {\"0\": {\"pause\": 0.5}}, \"withQ\": 0}",
              "{\"attrs\": {\"edges\": {\"6-5\": {\"color\": {\"animtype\": \"traverse\", \"value\": \"pink\", \"animsource\": \"6\"}}}}}",
              "{\"queues\": {\"0\": {\"pause\": 0.5}}, \"withQ\": 0}",
              "{\"attrs\": {\"edges\": {\"6-7\": {\"color\": {\"animtype\": \"traverse\", \"value\": \"pink\", \"animsource\": \"6\"}}}}}",
              "{\"queues\": {\"0\": {\"pause\": 0.5}}, \"withQ\": 0}",
              "{\"attrs\": {\"nodes\": {\"7\": {\"size\": \"1.25x\"}}}}",
              "{\"attrs\": {\"nodes\": {\"7\": {\"color\": \"purple\"}}}}",
              "{\"attrs\": {\"nodes\": {\"6\": {\"size\": \"0.8x\"}}}}",
              "{\"queues\": {\"0\": {\"pause\": 0.5}}, \"withQ\": 0}",
              "{\"attrs\": {\"edges\": {\"7-5\": {\"color\": {\"animtype\": \"traverse\", \"value\": \"pink\", \"animsource\": \"7\"}}}}}",
              "{\"queues\": {\"0\": {\"pause\": 0.5}}, \"withQ\": 0}",
              "{\"attrs\": {\"nodes\": {\"7\": {\"size\": \"0.8x\"}}}}"
            ],
            "layout": "IPY_MODEL_f65b2fd684d848aab16d3593cd26df4e",
            "show_buttons": true
          }
        },
        "f65b2fd684d848aab16d3593cd26df4e": {
          "model_module": "@jupyter-widgets/base",
          "model_name": "LayoutModel",
          "model_module_version": "1.2.0",
          "state": {
            "_model_module": "@jupyter-widgets/base",
            "_model_module_version": "1.2.0",
            "_model_name": "LayoutModel",
            "_view_count": null,
            "_view_module": "@jupyter-widgets/base",
            "_view_module_version": "1.2.0",
            "_view_name": "LayoutView",
            "align_content": null,
            "align_items": null,
            "align_self": null,
            "border": null,
            "bottom": null,
            "display": null,
            "flex": null,
            "flex_flow": null,
            "grid_area": null,
            "grid_auto_columns": null,
            "grid_auto_flow": null,
            "grid_auto_rows": null,
            "grid_column": null,
            "grid_gap": null,
            "grid_row": null,
            "grid_template_areas": null,
            "grid_template_columns": null,
            "grid_template_rows": null,
            "height": null,
            "justify_content": null,
            "justify_items": null,
            "left": null,
            "margin": null,
            "max_height": null,
            "max_width": null,
            "min_height": null,
            "min_width": null,
            "object_fit": null,
            "object_position": null,
            "order": null,
            "overflow": null,
            "overflow_x": null,
            "overflow_y": null,
            "padding": null,
            "right": null,
            "top": null,
            "visibility": null,
            "width": null
          }
        },
        "fe33e322f8564f7891bd0c7712195dd2": {
          "model_module": "algorithmx-jupyter",
          "model_name": "AlgorithmXModel",
          "model_module_version": "^3.0.0",
          "state": {
            "_dom_classes": [],
            "_model_module": "algorithmx-jupyter",
            "_model_module_version": "^3.0.0",
            "_model_name": "AlgorithmXModel",
            "_view_count": null,
            "_view_module": "algorithmx-jupyter",
            "_view_module_version": "^3.0.0",
            "_view_name": "AlgorithmXView",
            "events": [
              "{\"attrs\": {\"size\": [500, 400]}}",
              "{\"attrs\": {\"nodes\": {\"0\": {}, \"1\": {}, \"2\": {}, \"3\": {}, \"4\": {}, \"5\": {}, \"6\": {}, \"7\": {}, \"8\": {}, \"9\": {}, \"10\": {}, \"11\": {}, \"12\": {}, \"13\": {}, \"14\": {}, \"15\": {}}}}",
              "{\"attrs\": {\"edges\": {\"0-1\": {\"source\": \"0\", \"target\": \"1\"}, \"0-15\": {\"source\": \"0\", \"target\": \"15\"}, \"1-2\": {\"source\": \"1\", \"target\": \"2\"}, \"1-14\": {\"source\": \"1\", \"target\": \"14\"}, \"1-5\": {\"source\": \"1\", \"target\": \"5\"}, \"2-3\": {\"source\": \"2\", \"target\": \"3\"}, \"3-4\": {\"source\": \"3\", \"target\": \"4\"}, \"4-5\": {\"source\": \"4\", \"target\": \"5\"}, \"5-6\": {\"source\": \"5\", \"target\": \"6\"}, \"6-7\": {\"source\": \"6\", \"target\": \"7\"}, \"6-10\": {\"source\": \"6\", \"target\": \"10\"}, \"7-8\": {\"source\": \"7\", \"target\": \"8\"}, \"8-9\": {\"source\": \"8\", \"target\": \"9\"}, \"9-10\": {\"source\": \"9\", \"target\": \"10\"}, \"9-13\": {\"source\": \"9\", \"target\": \"13\"}, \"10-11\": {\"source\": \"10\", \"target\": \"11\"}, \"11-12\": {\"source\": \"11\", \"target\": \"12\"}, \"12-13\": {\"source\": \"12\", \"target\": \"13\"}, \"13-14\": {\"source\": \"13\", \"target\": \"14\"}, \"14-15\": {\"source\": \"14\", \"target\": \"15\"}}}}",
              "{\"attrs\": {\"edges\": {\"0-1\": {\"labels\": {\"0\": {\"text\": 13}}}, \"0-15\": {\"labels\": {\"0\": {\"text\": 16}}}, \"1-2\": {\"labels\": {\"0\": {\"text\": 13}}}, \"1-14\": {\"labels\": {\"0\": {\"text\": 8}}}, \"1-5\": {\"labels\": {\"0\": {\"text\": 6}}}, \"2-3\": {\"labels\": {\"0\": {\"text\": 12}}}, \"3-4\": {\"labels\": {\"0\": {\"text\": 8}}}, \"4-5\": {\"labels\": {\"0\": {\"text\": 18}}}, \"5-6\": {\"labels\": {\"0\": {\"text\": 4}}}, \"6-7\": {\"labels\": {\"0\": {\"text\": 12}}}, \"6-10\": {\"labels\": {\"0\": {\"text\": 19}}}, \"7-8\": {\"labels\": {\"0\": {\"text\": 4}}}, \"8-9\": {\"labels\": {\"0\": {\"text\": 2}}}, \"9-10\": {\"labels\": {\"0\": {\"text\": 15}}}, \"9-13\": {\"labels\": {\"0\": {\"text\": 20}}}, \"10-11\": {\"labels\": {\"0\": {\"text\": 2}}}, \"11-12\": {\"labels\": {\"0\": {\"text\": 2}}}, \"12-13\": {\"labels\": {\"0\": {\"text\": 17}}}, \"13-14\": {\"labels\": {\"0\": {\"text\": 1}}}, \"14-15\": {\"labels\": {\"0\": {\"text\": 17}}}}}, \"animation\": {\"duration\": 0}}",
              "{\"queues\": {\"0\": {\"pause\": 1}}, \"withQ\": 0}",
              "{\"attrs\": {\"nodes\": {\"0\": {\"color\": \"green\"}}}}",
              "{\"attrs\": {\"nodes\": {\"0\": {\"size\": \"1.25x\"}}}, \"animation\": {\"highlight\": true}}",
              "{\"attrs\": {\"nodes\": {\"8\": {\"color\": \"red\"}}}}",
              "{\"attrs\": {\"nodes\": {\"8\": {\"size\": \"1.25x\"}}}, \"animation\": {\"highlight\": true}}",
              "{\"queues\": {\"0\": {\"pause\": 1.5}}, \"withQ\": 0}",
              "{\"attrs\": {\"edges\": {\"0-1\": {\"color\": {\"animtype\": \"traverse\", \"value\": \"blue\", \"animsource\": \"0\"}}}}}",
              "{\"queues\": {\"0\": {\"pause\": 0.4}}, \"withQ\": 0}",
              "{\"attrs\": {\"nodes\": {\"1\": {\"color\": \"blue\"}}}}",
              "{\"attrs\": {\"nodes\": {\"1\": {\"labels\": {\"path\": {}}}}}}",
              "{\"attrs\": {\"nodes\": {\"1\": {\"labels\": {\"path\": {\"color\": \"blue\"}}}}}, \"animation\": {\"duration\": 0}}",
              "{\"attrs\": {\"nodes\": {\"1\": {\"labels\": {\"path\": {\"text\": 13}}}}}, \"animation\": {\"duration\": 0}}",
              "{\"queues\": {\"0\": {\"pause\": 0.4}}, \"withQ\": 0}",
              "{\"attrs\": {\"edges\": {\"1-5\": {\"color\": {\"animtype\": \"traverse\", \"value\": \"blue\", \"animsource\": \"1\"}}}}}",
              "{\"queues\": {\"0\": {\"pause\": 0.4}}, \"withQ\": 0}",
              "{\"attrs\": {\"nodes\": {\"5\": {\"color\": \"blue\"}}}}",
              "{\"attrs\": {\"nodes\": {\"5\": {\"labels\": {\"path\": {}}}}}}",
              "{\"attrs\": {\"nodes\": {\"5\": {\"labels\": {\"path\": {\"color\": \"blue\"}}}}}, \"animation\": {\"duration\": 0}}",
              "{\"attrs\": {\"nodes\": {\"5\": {\"labels\": {\"path\": {\"text\": 19}}}}}, \"animation\": {\"duration\": 0}}",
              "{\"queues\": {\"0\": {\"pause\": 0.4}}, \"withQ\": 0}",
              "{\"attrs\": {\"edges\": {\"5-6\": {\"color\": {\"animtype\": \"traverse\", \"value\": \"blue\", \"animsource\": \"5\"}}}}}",
              "{\"queues\": {\"0\": {\"pause\": 0.4}}, \"withQ\": 0}",
              "{\"attrs\": {\"nodes\": {\"6\": {\"color\": \"blue\"}}}}",
              "{\"attrs\": {\"nodes\": {\"6\": {\"labels\": {\"path\": {}}}}}}",
              "{\"attrs\": {\"nodes\": {\"6\": {\"labels\": {\"path\": {\"color\": \"blue\"}}}}}, \"animation\": {\"duration\": 0}}",
              "{\"attrs\": {\"nodes\": {\"6\": {\"labels\": {\"path\": {\"text\": 23}}}}}, \"animation\": {\"duration\": 0}}",
              "{\"queues\": {\"0\": {\"pause\": 0.4}}, \"withQ\": 0}",
              "{\"attrs\": {\"edges\": {\"6-7\": {\"color\": {\"animtype\": \"traverse\", \"value\": \"blue\", \"animsource\": \"6\"}}}}}",
              "{\"queues\": {\"0\": {\"pause\": 0.4}}, \"withQ\": 0}",
              "{\"attrs\": {\"nodes\": {\"7\": {\"color\": \"blue\"}}}}",
              "{\"attrs\": {\"nodes\": {\"7\": {\"labels\": {\"path\": {}}}}}}",
              "{\"attrs\": {\"nodes\": {\"7\": {\"labels\": {\"path\": {\"color\": \"blue\"}}}}}, \"animation\": {\"duration\": 0}}",
              "{\"attrs\": {\"nodes\": {\"7\": {\"labels\": {\"path\": {\"text\": 35}}}}}, \"animation\": {\"duration\": 0}}",
              "{\"queues\": {\"0\": {\"pause\": 0.4}}, \"withQ\": 0}",
              "{\"attrs\": {\"edges\": {\"7-8\": {\"color\": {\"animtype\": \"traverse\", \"value\": \"blue\", \"animsource\": \"7\"}}}}}",
              "{\"queues\": {\"0\": {\"pause\": 0.4}}, \"withQ\": 0}",
              "{\"attrs\": {\"nodes\": {\"8\": {\"labels\": {\"path\": {}}}}}}",
              "{\"attrs\": {\"nodes\": {\"8\": {\"labels\": {\"path\": {\"color\": \"blue\"}}}}}, \"animation\": {\"duration\": 0}}",
              "{\"attrs\": {\"nodes\": {\"8\": {\"labels\": {\"path\": {\"text\": 39}}}}}, \"animation\": {\"duration\": 0}}",
              "{\"queues\": {\"0\": {\"pause\": 0.4}}, \"withQ\": 0}"
            ],
            "layout": "IPY_MODEL_e98956290dde4fde95625b75f2fab7f6",
            "show_buttons": true
          }
        },
        "e98956290dde4fde95625b75f2fab7f6": {
          "model_module": "@jupyter-widgets/base",
          "model_name": "LayoutModel",
          "model_module_version": "1.2.0",
          "state": {
            "_model_module": "@jupyter-widgets/base",
            "_model_module_version": "1.2.0",
            "_model_name": "LayoutModel",
            "_view_count": null,
            "_view_module": "@jupyter-widgets/base",
            "_view_module_version": "1.2.0",
            "_view_name": "LayoutView",
            "align_content": null,
            "align_items": null,
            "align_self": null,
            "border": null,
            "bottom": null,
            "display": null,
            "flex": null,
            "flex_flow": null,
            "grid_area": null,
            "grid_auto_columns": null,
            "grid_auto_flow": null,
            "grid_auto_rows": null,
            "grid_column": null,
            "grid_gap": null,
            "grid_row": null,
            "grid_template_areas": null,
            "grid_template_columns": null,
            "grid_template_rows": null,
            "height": null,
            "justify_content": null,
            "justify_items": null,
            "left": null,
            "margin": null,
            "max_height": null,
            "max_width": null,
            "min_height": null,
            "min_width": null,
            "object_fit": null,
            "object_position": null,
            "order": null,
            "overflow": null,
            "overflow_x": null,
            "overflow_y": null,
            "padding": null,
            "right": null,
            "top": null,
            "visibility": null,
            "width": null
          }
        }
      }
    }
  },
  "cells": [
    {
      "cell_type": "markdown",
      "metadata": {
        "id": "view-in-github",
        "colab_type": "text"
      },
      "source": [
        "<a href=\"https://colab.research.google.com/github/chuk-yong/algorithmx/blob/main/algorithmx_demo.ipynb\" target=\"_parent\"><img src=\"https://colab.research.google.com/assets/colab-badge.svg\" alt=\"Open In Colab\"/></a>"
      ]
    },
    {
      "cell_type": "markdown",
      "source": [
        "## Getting Algorithmx to work in colab\n",
        "\n",
        "Algorithmx is a library for network visualization and algorithm simulation.\n",
        "\n",
        "requires customer_widget on colab.\n",
        "\n",
        "See: https://colab.research.google.com/notebooks/snippets/advanced_outputs.ipynb#scrollTo=w_63qoetcY8C"
      ],
      "metadata": {
        "id": "ntjWHMSj7x7J"
      }
    },
    {
      "cell_type": "code",
      "source": [
        "from google.colab import output\n",
        "output.enable_custom_widget_manager()"
      ],
      "metadata": {
        "id": "OX0Cjouy47M6"
      },
      "execution_count": 6,
      "outputs": []
    },
    {
      "cell_type": "code",
      "source": [
        "!pip install algorithmx"
      ],
      "metadata": {
        "colab": {
          "base_uri": "https://localhost:8080/"
        },
        "id": "vslQb1KK48HC",
        "outputId": "185836df-f56d-4f4b-fc15-80ffea3d8cf6"
      },
      "execution_count": 2,
      "outputs": [
        {
          "output_type": "stream",
          "name": "stdout",
          "text": [
            "Collecting algorithmx\n",
            "  Downloading algorithmx-2.0.3-py3-none-any.whl (1.6 MB)\n",
            "\u001b[K     |████████████████████████████████| 1.6 MB 5.2 MB/s \n",
            "\u001b[?25hInstalling collected packages: algorithmx\n",
            "Successfully installed algorithmx-2.0.3\n"
          ]
        }
      ]
    },
    {
      "cell_type": "code",
      "execution_count": 7,
      "metadata": {
        "colab": {
          "base_uri": "https://localhost:8080/",
          "height": 271,
          "referenced_widgets": [
            "105ea9589ad74e7086178b81043b6f83",
            "8ab107d3dbb64d87a017bf79aab92c75"
          ]
        },
        "id": "fYGwahsg4qAx",
        "outputId": "00ee119c-2399-4efe-97d3-42bb2a340a67"
      },
      "outputs": [
        {
          "output_type": "display_data",
          "data": {
            "text/plain": [
              "JupyterWidget(events=['{\"attrs\": {\"nodes\": {\"0\": {}, \"1\": {}, \"2\": {}, \"3\": {}, \"4\": {}, \"5\": {}, \"6\": {}, \"7\"…"
            ],
            "application/vnd.jupyter.widget-view+json": {
              "version_major": 2,
              "version_minor": 0,
              "model_id": "105ea9589ad74e7086178b81043b6f83"
            }
          },
          "metadata": {
            "application/vnd.jupyter.widget-view+json": {
              "colab": {
                "custom_widget_manager": {
                  "url": "https://ssl.gstatic.com/colaboratory-static/widgets/colab-cdn-widget-manager/a8874ba6619b6106/manager.min.js"
                }
              }
            }
          }
        }
      ],
      "source": [
        "import algorithmx\n",
        "import networkx as nx\n",
        "from random import randint\n",
        "\n",
        "canvas = algorithmx.jupyter_canvas()\n",
        "\n",
        "# Create a directed graph\n",
        "G = nx.circular_ladder_graph(5).to_directed()\n",
        "# Randomize edge weights\n",
        "nx.set_edge_attributes(G, {e: {'weight': randint(1, 9)} for e in G.edges})\n",
        "\n",
        "# Add nodes\n",
        "canvas.nodes(G.nodes).add()\n",
        "\n",
        "# Add directed edges with weight labels\n",
        "canvas.edges(G.edges).add().directed(True) \\\n",
        "    .label().text(lambda e: G.edges[e]['weight'])\n",
        "\n",
        "canvas"
      ]
    },
    {
      "cell_type": "code",
      "source": [
        "canvas = algorithmx.jupyter_canvas(buttons=True)\n",
        "canvas.size((500, 400))\n",
        "\n",
        "# Generate a 'caveman' graph with 3 cliques of size 4\n",
        "G = nx.connected_caveman_graph(3, 4)\n",
        "\n",
        "# Add nodes and edges\n",
        "canvas.nodes(G.nodes).add()\n",
        "canvas.edges(G.edges).add()\n",
        "canvas.pause(1)\n",
        "\n",
        "# Traverse the graph using breadth-first search\n",
        "bfs = nx.edge_bfs(G, 0)\n",
        "\n",
        "# Animate traversal\n",
        "source = None\n",
        "for e in bfs:\n",
        "    if e[0] != source:\n",
        "        # Make the new source large\n",
        "        canvas.node(e[0]).size('1.25x').color('purple')\n",
        "        # Make the previous source small again\n",
        "        if source is not None:\n",
        "            canvas.node(source).size('0.8x')\n",
        "        # Update source node\n",
        "        source = e[0]\n",
        "        canvas.pause(0.5)\n",
        "\n",
        "    # Traverse edges\n",
        "    #canvas.edge(e).traverse().color('pink')\n",
        "    canvas.edge(e).traverse(color = 'pink')\n",
        "    canvas.pause(0.5)\n",
        "\n",
        "# Make the remaining source small again\n",
        "canvas.node(source).size('0.8x')\n",
        "\n",
        "canvas"
      ],
      "metadata": {
        "colab": {
          "base_uri": "https://localhost:8080/",
          "height": 461,
          "referenced_widgets": [
            "1b08b7ed95d540c3887ffdde79cf5dea",
            "f65b2fd684d848aab16d3593cd26df4e"
          ]
        },
        "id": "wJJZPv6n5_I5",
        "outputId": "4059b133-f45b-4db5-cfd0-01da2b3ea276"
      },
      "execution_count": 9,
      "outputs": [
        {
          "output_type": "display_data",
          "data": {
            "text/plain": [
              "JupyterWidget(events=['{\"attrs\": {\"size\": [500, 400]}}', '{\"attrs\": {\"nodes\": {\"0\": {}, \"1\": {}, \"2\": {}, \"3\":…"
            ],
            "application/vnd.jupyter.widget-view+json": {
              "version_major": 2,
              "version_minor": 0,
              "model_id": "1b08b7ed95d540c3887ffdde79cf5dea"
            }
          },
          "metadata": {
            "application/vnd.jupyter.widget-view+json": {
              "colab": {
                "custom_widget_manager": {
                  "url": "https://ssl.gstatic.com/colaboratory-static/widgets/colab-cdn-widget-manager/a8874ba6619b6106/manager.min.js"
                }
              }
            }
          }
        }
      ]
    },
    {
      "cell_type": "code",
      "source": [
        "# For our final visualization, let’s find the shortest path on a random graph using Dijkstra’s algorithm.\n",
        "import random\n",
        "random.seed(436)\n",
        "\n",
        "canvas = algorithmx.jupyter_canvas(buttons=True)\n",
        "canvas.size((500, 400))\n",
        "\n",
        "# Generate random graph with random edge weights\n",
        "G = nx.newman_watts_strogatz_graph(16, 2, 0.4, seed=537)\n",
        "nx.set_edge_attributes(G, {e: randint(1, 20) for e in G.edges}, 'weight')\n",
        "\n",
        "# Add nodes and edges with weight labels\n",
        "canvas.nodes(G.nodes).add()\n",
        "canvas.edges(G.edges).add().label().text(lambda e: G.edges[e]['weight'])\n",
        "canvas.pause(1)\n",
        "\n",
        "# Select source and target\n",
        "source = 0\n",
        "target = 8\n",
        "canvas.node(source).color('green').highlight().size('1.25x')\n",
        "canvas.node(target).color('red').highlight().size('1.25x')\n",
        "canvas.pause(1.5)\n",
        "\n",
        "# Run Dijkstra's shortest path algorithm\n",
        "path = nx.dijkstra_path(G, source, target)\n",
        "\n",
        "# Animate the algorithm\n",
        "path_length = 0\n",
        "for i in range(len(path) - 1):\n",
        "    u, v = path[i], path[i + 1]\n",
        "\n",
        "    # Update path length\n",
        "    path_length += G[u][v]['weight']\n",
        "\n",
        "    # Traverse edge\n",
        "    #canvas.edge((u, v)).traverse().color('blue')\n",
        "    canvas.edge((u, v)).traverse(color = 'blue')\n",
        "    canvas.pause(0.4)\n",
        "\n",
        "    # Make the next node blue, unless it's the target\n",
        "    if v != target:\n",
        "        canvas.node(v).color('blue')\n",
        "\n",
        "    # Add a label to indicate current path length\n",
        "    canvas.node(v).label('path').add().color('blue').text(path_length)\n",
        "    canvas.pause(0.4)\n",
        "\n",
        "canvas"
      ],
      "metadata": {
        "colab": {
          "base_uri": "https://localhost:8080/",
          "height": 461,
          "referenced_widgets": [
            "fe33e322f8564f7891bd0c7712195dd2",
            "e98956290dde4fde95625b75f2fab7f6"
          ]
        },
        "id": "KP3HSWCQ7MhW",
        "outputId": "15452a7a-a827-4de8-b026-4674b3f57bdf"
      },
      "execution_count": 13,
      "outputs": [
        {
          "output_type": "display_data",
          "data": {
            "text/plain": [
              "JupyterWidget(events=['{\"attrs\": {\"size\": [500, 400]}}', '{\"attrs\": {\"nodes\": {\"0\": {}, \"1\": {}, \"2\": {}, \"3\":…"
            ],
            "application/vnd.jupyter.widget-view+json": {
              "version_major": 2,
              "version_minor": 0,
              "model_id": "fe33e322f8564f7891bd0c7712195dd2"
            }
          },
          "metadata": {
            "application/vnd.jupyter.widget-view+json": {
              "colab": {
                "custom_widget_manager": {
                  "url": "https://ssl.gstatic.com/colaboratory-static/widgets/colab-cdn-widget-manager/a8874ba6619b6106/manager.min.js"
                }
              }
            }
          }
        }
      ]
    }
  ]
}